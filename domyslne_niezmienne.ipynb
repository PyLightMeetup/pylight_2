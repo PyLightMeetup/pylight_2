{
 "cells": [
  {
   "cell_type": "markdown",
   "metadata": {
    "slideshow": {
     "slide_type": "slide"
    }
   },
   "source": [
    "# Domyślne niezmienne\n",
    "## Marcin Jaroszewski\n",
    "### 23.10.2017, PyLight #2"
   ]
  },
  {
   "cell_type": "markdown",
   "metadata": {
    "slideshow": {
     "slide_type": "notes"
    }
   },
   "source": [
    "Każda funkcja może przyjmować argumenty.  \n",
    "Są dwie grupy argumentów:"
   ]
  },
  {
   "cell_type": "markdown",
   "metadata": {
    "slideshow": {
     "slide_type": "notes"
    }
   },
   "source": [
    "I. Pozycyjne - ważna kolejność; nie mogą mieć wartości domyślnej."
   ]
  },
  {
   "cell_type": "markdown",
   "metadata": {
    "slideshow": {
     "slide_type": "slide"
    }
   },
   "source": [
    "```python\n",
    "# definicja\n",
    "def my_fancy_function(first, last):\n",
    "```"
   ]
  },
  {
   "cell_type": "markdown",
   "metadata": {
    "slideshow": {
     "slide_type": "slide"
    }
   },
   "source": [
    "```python\n",
    "# wywołanie\n",
    "my_fancy_function('Magda', 'K'):\n",
    "```"
   ]
  },
  {
   "cell_type": "markdown",
   "metadata": {
    "slideshow": {
     "slide_type": "notes"
    }
   },
   "source": [
    "II. Keyword - nieważna kolejność; mają wartość domyślną (definiowaną przez autora)."
   ]
  },
  {
   "cell_type": "markdown",
   "metadata": {
    "slideshow": {
     "slide_type": "slide"
    }
   },
   "source": [
    "```python\n",
    "# definicja\n",
    "def my_other_fancy_function(first='Jon', last='Doe'):\n",
    "```"
   ]
  },
  {
   "cell_type": "markdown",
   "metadata": {
    "slideshow": {
     "slide_type": "slide"
    }
   },
   "source": [
    "```python\n",
    "# wywołanie z użyciem wartości domyślnych\n",
    "my_other_fancy_function():\n",
    "    \n",
    "# wywołanie przez nazwy argumentów\n",
    "my_other_fancy_function(first='Jan', last='K')\n",
    "\n",
    "# wywołanie pozycyjne\n",
    "my_other_fancy_function('Marcin', 'J')\n",
    "```"
   ]
  },
  {
   "cell_type": "markdown",
   "metadata": {
    "slideshow": {
     "slide_type": "notes"
    }
   },
   "source": [
    "Oprócz wprost nazwanych argumentów pozycyjnych i keyword możemy użyć zbiorczych: `*args`, `**kwargs`."
   ]
  },
  {
   "cell_type": "markdown",
   "metadata": {
    "slideshow": {
     "slide_type": "notes"
    }
   },
   "source": [
    "`*args` - tupla zawierająca wszystkie argumenty pozycyjne ponad te, które są w definicji funkcji."
   ]
  },
  {
   "cell_type": "markdown",
   "metadata": {
    "slideshow": {
     "slide_type": "notes"
    }
   },
   "source": [
    "`**kwargs` - słownik zawierający wszystkie argumenty keyword ponad podane w definicji funlcji (`nazwa_argumentu: wartość`)  \n",
    "Nie mają domyślnej wartości."
   ]
  },
  {
   "cell_type": "markdown",
   "metadata": {
    "slideshow": {
     "slide_type": "notes"
    }
   },
   "source": [
    "Wykorzystanie argumentów pozycyjnych, keyword, `*args` i `**kwargs`"
   ]
  },
  {
   "cell_type": "markdown",
   "metadata": {
    "slideshow": {
     "slide_type": "slide"
    }
   },
   "source": [
    "```python\n",
    "def suprise(a, b, c, d=1, e=2, *args, **kwargs):\n",
    "```"
   ]
  },
  {
   "cell_type": "markdown",
   "metadata": {
    "slideshow": {
     "slide_type": "notes"
    }
   },
   "source": [
    "Przedstawię pułapkę, w którą zwykle wpadają niedoświadczeni programiści Python.  \n",
    "Oficjalna dokumentacja: https://docs.python.org/3.6/reference/compound_stmts.html#function-definitions"
   ]
  },
  {
   "cell_type": "markdown",
   "metadata": {
    "slideshow": {
     "slide_type": "notes"
    }
   },
   "source": [
    "Interesujący nas fragment oficjalnej dokumentacji:\n",
    "\n",
    "> Default parameter values are evaluated from left to right when the function definition is executed. This means that the expression is evaluated once, when the function is defined, and that the same “pre-computed” value is used for each call. This is especially important to understand when a default parameter is a mutable object, such as a list or a dictionary: if the function modifies the object (e.g. by appending an item to a list), the default value is in effect modified. This is generally not what was intended. A way around this is to use None as the default, and explicitly test for it in the body of the function"
   ]
  },
  {
   "cell_type": "markdown",
   "metadata": {
    "slideshow": {
     "slide_type": "notes"
    }
   },
   "source": [
    "Definicja funkcji jest wykonywana - w momencie importu modułu zawierającego tę funkcję.  \n",
    "Oznacza to, że wartości domyślne funkcj zostaną wyliczone raz podczas importu, a **nie** podczas każdego wywołania funkcji."
   ]
  },
  {
   "cell_type": "code",
   "execution_count": 1,
   "metadata": {
    "slideshow": {
     "slide_type": "slide"
    }
   },
   "outputs": [],
   "source": [
    "# funkcja z domyślnym \"zmiennym\" (mutable) argumentem \n",
    "def suprise(*args, members=set()):\n",
    "    for name in args:\n",
    "        members.add(name)\n",
    "    print('members: ', members)"
   ]
  },
  {
   "cell_type": "code",
   "execution_count": 2,
   "metadata": {
    "slideshow": {
     "slide_type": "slide"
    }
   },
   "outputs": [
    {
     "name": "stdout",
     "output_type": "stream",
     "text": [
      "members:  {'Ala'}\n",
      "members:  {'Ala', 'As'}\n",
      "members:  {'Ala', 'Ula', 'Ania', 'As'}\n"
     ]
    }
   ],
   "source": [
    "suprise('Ala')\n",
    "suprise('As')\n",
    "suprise('Ania', 'Ula')"
   ]
  },
  {
   "cell_type": "code",
   "execution_count": 3,
   "metadata": {
    "slideshow": {
     "slide_type": "slide"
    }
   },
   "outputs": [
    {
     "name": "stdout",
     "output_type": "stream",
     "text": [
      "members:  {'Zosia', 'Tosia', 'Gosia'}\n",
      "members:  {'Ala', 'Magda', 'Ula', 'Ania', 'As'}\n"
     ]
    }
   ],
   "source": [
    "suprise('Zosia', members={'Gosia', 'Tosia'})\n",
    "suprise('Magda')"
   ]
  },
  {
   "cell_type": "markdown",
   "metadata": {
    "slideshow": {
     "slide_type": "notes"
    }
   },
   "source": [
    "Przykład ze sprawdzeniem adresu (id) zmiennej `members` "
   ]
  },
  {
   "cell_type": "code",
   "execution_count": 4,
   "metadata": {
    "slideshow": {
     "slide_type": "slide"
    }
   },
   "outputs": [],
   "source": [
    "def suprise_with_id(*args, members=set()):\n",
    "    for name in args:\n",
    "        members.add(name)\n",
    "    print('id(members): ', id(members))\n",
    "    print('members: ', members)"
   ]
  },
  {
   "cell_type": "code",
   "execution_count": 5,
   "metadata": {
    "slideshow": {
     "slide_type": "slide"
    }
   },
   "outputs": [
    {
     "name": "stdout",
     "output_type": "stream",
     "text": [
      "id(members):  140089440621736\n",
      "members:  {'Ala'}\n",
      "id(members):  140089440621736\n",
      "members:  {'Ala', 'As'}\n",
      "id(members):  140089440621736\n",
      "members:  {'Ala', 'Ula', 'Ania', 'As'}\n",
      "id(members):  140089440621960\n",
      "members:  {'Zosia', 'Tosia', 'Gosia'}\n",
      "id(members):  140089440621736\n",
      "members:  {'Ala', 'Magda', 'Ula', 'Ania', 'As'}\n"
     ]
    }
   ],
   "source": [
    "suprise_with_id('Ala')\n",
    "suprise_with_id('As')\n",
    "suprise_with_id('Ania', 'Ula')\n",
    "suprise_with_id('Zosia', members={'Gosia', 'Tosia'})\n",
    "suprise_with_id('Magda')"
   ]
  },
  {
   "cell_type": "markdown",
   "metadata": {
    "slideshow": {
     "slide_type": "notes"
    }
   },
   "source": [
    "Poprawiony przykład. Proszę zwrócić uwagę w jaki sposób jest ustawiana wartość zmiennej `members`"
   ]
  },
  {
   "cell_type": "code",
   "execution_count": 6,
   "metadata": {
    "slideshow": {
     "slide_type": "slide"
    }
   },
   "outputs": [],
   "source": [
    "def suprise_correct(*args, members=None):\n",
    "    if members is None:\n",
    "        members = set()\n",
    "    for name in args:\n",
    "        members.add(name)\n",
    "    print('id(members): ', id(members))\n",
    "    print('members: ', members)"
   ]
  },
  {
   "cell_type": "code",
   "execution_count": 7,
   "metadata": {
    "slideshow": {
     "slide_type": "slide"
    }
   },
   "outputs": [
    {
     "name": "stdout",
     "output_type": "stream",
     "text": [
      "id(members):  140089440621960\n",
      "members:  {'Ala'}\n",
      "id(members):  140089440621960\n",
      "members:  {'As'}\n",
      "id(members):  140089440621960\n",
      "members:  {'Ula', 'Ania'}\n",
      "id(members):  140089440621960\n",
      "members:  {'Zosia', 'Tosia', 'Gosia'}\n",
      "id(members):  140089440621960\n",
      "members:  {'Magda'}\n"
     ]
    }
   ],
   "source": [
    "suprise_correct('Ala')\n",
    "suprise_correct('As')\n",
    "suprise_correct('Ania', 'Ula')\n",
    "suprise_correct('Zosia', members={'Gosia', 'Tosia'})\n",
    "suprise_correct('Magda')"
   ]
  },
  {
   "cell_type": "markdown",
   "metadata": {
    "slideshow": {
     "slide_type": "slide"
    }
   },
   "source": [
    "Standardowe typy danych \"niezmienne\" (immutable):\n",
    "1. `int`\n",
    "2. `float`\n",
    "2. `string`\n",
    "2. `tuple`\n",
    "3. `frozenset`"
   ]
  },
  {
   "cell_type": "markdown",
   "metadata": {
    "slideshow": {
     "slide_type": "slide"
    }
   },
   "source": [
    "Standardowe typy danych \"zmienne\" (mutable):\n",
    "1. `list`\n",
    "2. `dict`\n",
    "2. `set`"
   ]
  },
  {
   "cell_type": "markdown",
   "metadata": {
    "slideshow": {
     "slide_type": "slide"
    }
   },
   "source": [
    "### Pytania?"
   ]
  },
  {
   "cell_type": "markdown",
   "metadata": {
    "slideshow": {
     "slide_type": "notes"
    }
   },
   "source": [
    "Do widzenia"
   ]
  }
 ],
 "metadata": {
  "celltoolbar": "Slideshow",
  "kernelspec": {
   "display_name": "Python 3",
   "language": "python",
   "name": "python3"
  },
  "language_info": {
   "codemirror_mode": {
    "name": "ipython",
    "version": 3
   },
   "file_extension": ".py",
   "mimetype": "text/x-python",
   "name": "python",
   "nbconvert_exporter": "python",
   "pygments_lexer": "ipython3",
   "version": "3.5.2"
  }
 },
 "nbformat": 4,
 "nbformat_minor": 2
}
